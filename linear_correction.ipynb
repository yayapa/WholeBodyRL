{
 "cells": [
  {
   "cell_type": "code",
   "execution_count": 30,
   "metadata": {},
   "outputs": [],
   "source": [
    "import pandas as pd\n",
    "import numpy as np\n",
    "# import metrics mae, rmse\n",
    "import os\n",
    "from sklearn.metrics import mean_absolute_error, mean_squared_error\n",
    "\n",
    "ckpt_dir = \"/vol/aimspace/users/sdm/Projects/WholeBodyRL/logs/lightning_logs/version_216\"\n",
    "test_pred_df = pd.read_csv(os.path.join(ckpt_dir, \"test_preds.csv\"))\n",
    "\n",
    "pred = test_pred_df[\"pred\"].values\n",
    "target = test_pred_df[\"target\"].values\n",
    "\n",
    "train_df = pd.read_csv(\"/u/home/sdm/GitHub/WholeBodyRL/configs/data_files/labels_healthy_age.csv\")\n",
    "\n"
   ]
  },
  {
   "cell_type": "code",
   "execution_count": 31,
   "metadata": {},
   "outputs": [
    {
     "name": "stdout",
     "output_type": "stream",
     "text": [
      "MAE:  1.2793437926627669\n"
     ]
    }
   ],
   "source": [
    "print(\"MAE: \", mean_absolute_error(target, pred))\n"
   ]
  },
  {
   "cell_type": "code",
   "execution_count": 32,
   "metadata": {},
   "outputs": [
    {
     "data": {
      "text/plain": [
       "3553"
      ]
     },
     "execution_count": 32,
     "metadata": {},
     "output_type": "execute_result"
    }
   ],
   "source": [
    "len(pred)"
   ]
  },
  {
   "cell_type": "code",
   "execution_count": 33,
   "metadata": {},
   "outputs": [],
   "source": [
    "train_df[\"pred\"] = pred\n",
    "train_df[\"target\"] = target\n"
   ]
  },
  {
   "cell_type": "code",
   "execution_count": 34,
   "metadata": {},
   "outputs": [
    {
     "data": {
      "text/html": [
       "<div>\n",
       "<style scoped>\n",
       "    .dataframe tbody tr th:only-of-type {\n",
       "        vertical-align: middle;\n",
       "    }\n",
       "\n",
       "    .dataframe tbody tr th {\n",
       "        vertical-align: top;\n",
       "    }\n",
       "\n",
       "    .dataframe thead th {\n",
       "        text-align: right;\n",
       "    }\n",
       "</style>\n",
       "<table border=\"1\" class=\"dataframe\">\n",
       "  <thead>\n",
       "    <tr style=\"text-align: right;\">\n",
       "      <th></th>\n",
       "      <th>eid</th>\n",
       "      <th>age</th>\n",
       "      <th>split</th>\n",
       "      <th>pred</th>\n",
       "      <th>target</th>\n",
       "    </tr>\n",
       "  </thead>\n",
       "  <tbody>\n",
       "    <tr>\n",
       "      <th>0</th>\n",
       "      <td>1000456</td>\n",
       "      <td>68.4</td>\n",
       "      <td>train</td>\n",
       "      <td>67.599335</td>\n",
       "      <td>68.400002</td>\n",
       "    </tr>\n",
       "    <tr>\n",
       "      <th>1</th>\n",
       "      <td>1003657</td>\n",
       "      <td>56.0</td>\n",
       "      <td>train</td>\n",
       "      <td>56.461300</td>\n",
       "      <td>56.000000</td>\n",
       "    </tr>\n",
       "    <tr>\n",
       "      <th>2</th>\n",
       "      <td>1007569</td>\n",
       "      <td>84.7</td>\n",
       "      <td>train</td>\n",
       "      <td>83.312622</td>\n",
       "      <td>84.699997</td>\n",
       "    </tr>\n",
       "    <tr>\n",
       "      <th>3</th>\n",
       "      <td>1010183</td>\n",
       "      <td>64.6</td>\n",
       "      <td>train</td>\n",
       "      <td>63.904839</td>\n",
       "      <td>64.599998</td>\n",
       "    </tr>\n",
       "    <tr>\n",
       "      <th>4</th>\n",
       "      <td>1011243</td>\n",
       "      <td>48.0</td>\n",
       "      <td>train</td>\n",
       "      <td>48.592815</td>\n",
       "      <td>48.000000</td>\n",
       "    </tr>\n",
       "    <tr>\n",
       "      <th>...</th>\n",
       "      <td>...</td>\n",
       "      <td>...</td>\n",
       "      <td>...</td>\n",
       "      <td>...</td>\n",
       "      <td>...</td>\n",
       "    </tr>\n",
       "    <tr>\n",
       "      <th>3548</th>\n",
       "      <td>5974244</td>\n",
       "      <td>69.2</td>\n",
       "      <td>val</td>\n",
       "      <td>64.278450</td>\n",
       "      <td>69.199997</td>\n",
       "    </tr>\n",
       "    <tr>\n",
       "      <th>3549</th>\n",
       "      <td>5985123</td>\n",
       "      <td>56.0</td>\n",
       "      <td>val</td>\n",
       "      <td>61.945686</td>\n",
       "      <td>56.000000</td>\n",
       "    </tr>\n",
       "    <tr>\n",
       "      <th>3550</th>\n",
       "      <td>6005574</td>\n",
       "      <td>68.2</td>\n",
       "      <td>val</td>\n",
       "      <td>63.663387</td>\n",
       "      <td>68.199997</td>\n",
       "    </tr>\n",
       "    <tr>\n",
       "      <th>3551</th>\n",
       "      <td>6008012</td>\n",
       "      <td>54.9</td>\n",
       "      <td>val</td>\n",
       "      <td>61.741096</td>\n",
       "      <td>54.900002</td>\n",
       "    </tr>\n",
       "    <tr>\n",
       "      <th>3552</th>\n",
       "      <td>6013579</td>\n",
       "      <td>79.2</td>\n",
       "      <td>val</td>\n",
       "      <td>72.749016</td>\n",
       "      <td>79.199997</td>\n",
       "    </tr>\n",
       "  </tbody>\n",
       "</table>\n",
       "<p>3553 rows × 5 columns</p>\n",
       "</div>"
      ],
      "text/plain": [
       "          eid   age  split       pred     target\n",
       "0     1000456  68.4  train  67.599335  68.400002\n",
       "1     1003657  56.0  train  56.461300  56.000000\n",
       "2     1007569  84.7  train  83.312622  84.699997\n",
       "3     1010183  64.6  train  63.904839  64.599998\n",
       "4     1011243  48.0  train  48.592815  48.000000\n",
       "...       ...   ...    ...        ...        ...\n",
       "3548  5974244  69.2    val  64.278450  69.199997\n",
       "3549  5985123  56.0    val  61.945686  56.000000\n",
       "3550  6005574  68.2    val  63.663387  68.199997\n",
       "3551  6008012  54.9    val  61.741096  54.900002\n",
       "3552  6013579  79.2    val  72.749016  79.199997\n",
       "\n",
       "[3553 rows x 5 columns]"
      ]
     },
     "execution_count": 34,
     "metadata": {},
     "output_type": "execute_result"
    }
   ],
   "source": [
    "train_df"
   ]
  },
  {
   "cell_type": "code",
   "execution_count": 36,
   "metadata": {},
   "outputs": [
    {
     "name": "stdout",
     "output_type": "stream",
     "text": [
      "Split: train, MAE: 0.8168295441694304, MAE corrected: 0.710178447747656\n",
      "Split: val, MAE: 3.1248534234722016, MAE corrected: 2.9970815445540055\n"
     ]
    }
   ],
   "source": [
    "# calculate mae, rmse\n",
    "for split in [\"train\", \"val\"]:\n",
    "    X = train_df[train_df[\"split\"] == split][\"age\"]\n",
    "    y = train_df[train_df[\"split\"] == split][\"pred\"]\n",
    "    mae = mean_absolute_error(X, y)\n",
    "    mae_corrected = mean_absolute_error(X, train_df[train_df[\"split\"] == split][\"pred_corrected\"])\n",
    "    print(f\"Split: {split}, MAE: {mae}, MAE corrected: {mae_corrected}\")\n"
   ]
  },
  {
   "cell_type": "code",
   "execution_count": 35,
   "metadata": {},
   "outputs": [],
   "source": [
    "from sklearn.linear_model import LinearRegression\n",
    "\n",
    "def perform_linear_correction(df_results:pd.DataFrame, column_predictions:str, column_target:str):\n",
    "    \"\"\"\n",
    "        This function takes a dataframe with the results in the column column_predictions \n",
    "        and the actual age of all subjects and returns a new dataframe with additional \n",
    "        columns including:\n",
    "          - the age gap (\"age_gap_raw\")\n",
    "          - the linearly corrected age gap (\"age_gap_corrected\")\n",
    "          - the corrected prediction (\"<column_predictions>_corrected\")\n",
    "        df_results must additionally include a column called \"split\" where the split of each data point is indicated\n",
    "\n",
    "        df_results: data frame with the results\n",
    "        column_predictions: the column with the predictions\n",
    "        split_to_use_as_train: the split that is used as training set for the linear regression\n",
    "\n",
    "        NOTE: the column column_predictions should not contain NaNs\n",
    "    \"\"\"\n",
    "\n",
    "    df_results[column_target + \"_gap_raw\"] = [x-y for x, y in zip(df_results[column_predictions], df_results[column_target])]\n",
    "    x_train = df_results[df_results[\"split\"].isin([\"train\"])][\"age\"].values.reshape(-1, 1)\n",
    "    y_train = df_results[df_results[\"split\"].isin([\"train\"])][\"age_gap_raw\"].values\n",
    "\n",
    "    reg_wholebody = LinearRegression().fit(x_train, y_train)\n",
    "\n",
    "    new_age_gaps = reg_wholebody.predict(df_results[column_target].values.reshape(-1, 1))\n",
    "\n",
    "    str_pred_corrected = column_predictions + \"_corrected\"\n",
    "    df_results[str_pred_corrected] = df_results[column_predictions] - new_age_gaps\n",
    "\n",
    "    df_results[column_target+\"_gap_corrected\"] = [x-y for x, y in zip(df_results[str_pred_corrected], df_results[column_target])]\n",
    "\n",
    "    return df_results\n",
    "\n",
    "train_df = perform_linear_correction(train_df, \"pred\", \"age\")"
   ]
  },
  {
   "cell_type": "code",
   "execution_count": 37,
   "metadata": {},
   "outputs": [],
   "source": [
    "from scipy.stats import gmean\n",
    "def discretize_distribution(distribution, bins):\n",
    "    # Convert continuous distribution to discrete by fixed bins\n",
    "    counts, bin_edges = np.histogram(distribution, bins=bins)\n",
    "    discrete_distribution = (bin_edges[:-1] + bin_edges[1:]) / 2\n",
    "    return discrete_distribution, counts, bin_edges\n",
    "\n",
    "def classify_bin_counts(counts):\n",
    "    # Classify each bin's count independently\n",
    "    return [\"few\" if count < 20 else \"medium\" if 20 <= count <= 100 else \"many\" for count in counts]\n",
    "\n",
    "def create_grouped_region_mapping(classifications):\n",
    "    # Create a dictionary grouping indices by their classifications\n",
    "    mapping = {\"few\": [], \"medium\": [], \"many\": []}\n",
    "    for index, region in enumerate(classifications):\n",
    "        mapping[region].append(index)\n",
    "    return mapping\n",
    "\n",
    "def map_test_samples_to_regions(test_samples, bin_edges, region_mapping,bin_max):\n",
    "    # Determine which bin each test sample falls into\n",
    "    bin_indices = np.digitize(test_samples, bin_edges, right=False) - 1 \n",
    "    regions = []\n",
    "    for bin_index in bin_indices:\n",
    "        if bin_index < 0 or bin_index >= bin_max:\n",
    "            # Directly assign out-of-range values to the 'few' category.\n",
    "            regions.append('few')\n",
    "        else:\n",
    "            # Find the appropriate region for in-range values.\n",
    "            region = next((key for key, indices in region_mapping.items() if bin_index in indices), 'few')\n",
    "            regions.append(region)\n",
    "    return regions\n",
    "\n",
    "def testing_shots_regions(pred,label,training_distribution):\n",
    "    if(training_distribution.shape[0]<= 1000):\n",
    "        Bins = 10\n",
    "    else:\n",
    "        Bins = 50\n",
    "    \n",
    "    if(len(list(set(training_distribution)))<Bins):\n",
    "        Bins = len(list(set(training_distribution.numpy())))\n",
    "        \n",
    "    # Discretize the training distribution\n",
    "    discrete_training, counts_training, bin_edges = discretize_distribution(training_distribution, bins=Bins)\n",
    "    # Classify each bin based on its count\n",
    "    classification = classify_bin_counts(counts_training)\n",
    "    # Create a mapping from index to region\n",
    "    region_mapping  = create_grouped_region_mapping(classification)\n",
    "    \n",
    "    # Map test samples to regions\n",
    "    label_category = np.array(map_test_samples_to_regions(label, bin_edges, region_mapping,bin_max = Bins))\n",
    "    \n",
    "    pred_shot = {'many': [], 'medium': [], 'few': [], 'overall': []}\n",
    "    label_shot = {'many': [], 'medium': [], 'few': [], 'overall': []}\n",
    "    metric = {'many': {}, 'medium': {}, 'few': {}, 'overall': {}}\n",
    "    \n",
    "    for shot in ['overall', 'many', 'medium', 'few']:\n",
    "        pred_shot[shot] = np.array(pred)[label_category == shot] if shot != 'overall' else np.array(pred)\n",
    "        label_shot[shot] = np.array(label)[label_category == shot] if shot != 'overall' else np.array(label)\n",
    "        metric[shot]['rmse'] = np.sqrt(np.mean((pred_shot[shot] - label_shot[shot]) ** 2)) if pred_shot[shot].size > 0 else 0.\n",
    "        metric[shot]['mae'] = np.mean(np.abs(pred_shot[shot] - label_shot[shot])) if pred_shot[shot].size > 0 else 0.\n",
    "        if pred_shot[shot].size <= 0:\n",
    "            metric[shot]['gmean'] = 0.\n",
    "        else:\n",
    "            diff = np.abs(pred_shot[shot] - label_shot[shot])\n",
    "            if diff[diff == 0.].size:\n",
    "                diff[diff == 0.] += 1e-10\n",
    "                metric[shot]['gmean'] = gmean(diff) if pred_shot[shot].size > 0 else 0.\n",
    "            else:\n",
    "                metric[shot]['gmean'] = gmean(np.abs(pred_shot[shot] - label_shot[shot])) if pred_shot[shot].size > 0 else 0.\n",
    "        metric[shot]['num_samples'] = pred_shot[shot].size\n",
    "    task_metrics = metric\n",
    "    \n",
    "    print(f\" * Overall: RMSE {task_metrics['overall']['rmse']:.3f}\\tG-Mean {task_metrics['overall']['gmean']:.3f}\\tMAE {task_metrics['overall']['mae']:.3f}\")\n",
    "    print(f\" * Many: RMSE {task_metrics['many']['rmse']:.3f}\\t\"\n",
    "          f\"G-Mean {task_metrics['many']['gmean']:.3f}\"\n",
    "          f\"\\tMAE {task_metrics['many']['mae']:.3f}\")\n",
    "    print(f\" * Median: RMSE {task_metrics['medium']['rmse']:.3f}\\t\"\n",
    "          f\"G-Mean {task_metrics['medium']['gmean']:.3f}\"\n",
    "          f\"\\tMAE {task_metrics['medium']['mae']:.3f}\")\n",
    "    print(f\" * Low: RMSE {task_metrics['few']['rmse']:.3f}\\t\"\n",
    "          f\"G-Mean {task_metrics['few']['gmean']:.3f}\"\n",
    "          f\"\\tMAE {task_metrics['few']['mae']:.3f}\")\n",
    "\n",
    "    return task_metrics"
   ]
  },
  {
   "cell_type": "code",
   "execution_count": 40,
   "metadata": {},
   "outputs": [
    {
     "name": "stdout",
     "output_type": "stream",
     "text": [
      " * Overall: RMSE 3.923\tG-Mean 2.033\tMAE 3.125\n",
      " * Many: RMSE 3.758\tG-Mean 2.070\tMAE 3.027\n",
      " * Median: RMSE 3.924\tG-Mean 1.983\tMAE 3.107\n",
      " * Low: RMSE 5.559\tG-Mean 3.815\tMAE 4.947\n"
     ]
    }
   ],
   "source": [
    "res = testing_shots_regions(train_df[train_df[\"split\"]==\"val\"][\"pred\"], train_df[train_df[\"split\"]==\"val\"][\"age\"], train_df[train_df[\"split\"]==\"train\"][\"age\"])"
   ]
  },
  {
   "cell_type": "code",
   "execution_count": 41,
   "metadata": {},
   "outputs": [
    {
     "data": {
      "text/html": [
       "<div>\n",
       "<style scoped>\n",
       "    .dataframe tbody tr th:only-of-type {\n",
       "        vertical-align: middle;\n",
       "    }\n",
       "\n",
       "    .dataframe tbody tr th {\n",
       "        vertical-align: top;\n",
       "    }\n",
       "\n",
       "    .dataframe thead th {\n",
       "        text-align: right;\n",
       "    }\n",
       "</style>\n",
       "<table border=\"1\" class=\"dataframe\">\n",
       "  <thead>\n",
       "    <tr style=\"text-align: right;\">\n",
       "      <th></th>\n",
       "      <th>overall</th>\n",
       "      <th>many</th>\n",
       "      <th>medium</th>\n",
       "      <th>few</th>\n",
       "    </tr>\n",
       "  </thead>\n",
       "  <tbody>\n",
       "    <tr>\n",
       "      <th>mae</th>\n",
       "      <td>3.12</td>\n",
       "      <td>3.03</td>\n",
       "      <td>3.11</td>\n",
       "      <td>4.95</td>\n",
       "    </tr>\n",
       "  </tbody>\n",
       "</table>\n",
       "</div>"
      ],
      "text/plain": [
       "     overall  many  medium   few\n",
       "mae     3.12  3.03    3.11  4.95"
      ]
     },
     "execution_count": 41,
     "metadata": {},
     "output_type": "execute_result"
    }
   ],
   "source": [
    "# visualize mae for each region as dataframe with columns overall, many, medium, few and mae as rows\n",
    "mae = pd.DataFrame(res).T[[\"mae\"]].T\n",
    "# change the order of the columns\n",
    "mae = mae[[\"overall\", \"many\", \"medium\", \"few\"]]\n",
    "# only show 2 decimal places\n",
    "mae = mae.round(2)\n",
    "mae"
   ]
  },
  {
   "cell_type": "markdown",
   "metadata": {},
   "source": []
  }
 ],
 "metadata": {
  "kernelspec": {
   "display_name": "wholeheart",
   "language": "python",
   "name": "python3"
  },
  "language_info": {
   "codemirror_mode": {
    "name": "ipython",
    "version": 3
   },
   "file_extension": ".py",
   "mimetype": "text/x-python",
   "name": "python",
   "nbconvert_exporter": "python",
   "pygments_lexer": "ipython3",
   "version": "3.9.20"
  }
 },
 "nbformat": 4,
 "nbformat_minor": 2
}
